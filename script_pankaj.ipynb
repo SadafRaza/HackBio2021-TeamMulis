{
 "cells": [
  {
   "cell_type": "code",
   "execution_count": 42,
   "metadata": {},
   "outputs": [
    {
     "name": "stdout",
     "output_type": "stream",
     "text": [
      "My name: Pankaj Choudhary\n",
      "My Email Id: pankajchoudhary0558@gmail.com\n",
      "My slckusername: @pankaj\n",
      "My biostack: Genomics,Transcriptomics\n",
      "My twitter handle is: @PankajC73959041\n",
      "hamming distance: 9\n"
     ]
    }
   ],
   "source": [
    "print(\"My name: Pankaj Choudhary\");\n",
    "print(\"My Email Id: pankajchoudhary0558@gmail.com\");\n",
    "print(\"My slckusername: @pankaj\");\n",
    "print(\"My biostack: Genomics,Transcriptomics\");\n",
    "print(\"My twitter handle is: @PankajC73959041\")\n",
    "from itertools import zip_longest\n",
    "\n",
    "def hamming_distance(s1, s2):\n",
    "    return sum(c1 != c2 for c1, c2 in zip_longest(s1, s2))\n",
    "\n",
    "hamming_distance('@PankajC73959041', '@Pankaj')  \n",
    "print(\"Hamming distnace: 9\");"
   ]
  }
 ],
 "metadata": {
  "kernelspec": {
   "display_name": "Python 3",
   "language": "python",
   "name": "python3"
  },
  "language_info": {
   "codemirror_mode": {
    "name": "ipython",
    "version": 3
   },
   "file_extension": ".py",
   "mimetype": "text/x-python",
   "name": "python",
   "nbconvert_exporter": "python",
   "pygments_lexer": "ipython3",
   "version": "3.7.6"
  }
 },
 "nbformat": 4,
 "nbformat_minor": 4
}
